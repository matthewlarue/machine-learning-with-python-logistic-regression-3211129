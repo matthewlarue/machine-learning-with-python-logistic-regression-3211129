{
 "cells": [
  {
   "cell_type": "markdown",
   "id": "11963cc7",
   "metadata": {},
   "source": [
    "# Classifying Data with Logistic Regression in Python\n",
    "\n",
    "## Learning Objectives\n",
    "Logistic Regression is one of the simplest and most commonly used classification approaches in machine learning. Logistic regression allows us to model the relationship between independent variables and the probability of a categorical response (such as True or False, Yes or No). By the end of this tutorial, you will have learned:\n",
    "\n",
    "+ How to import, explore and prepare data\n",
    "+ How to build a Logistic Regression model\n",
    "+ How to evaluate a Logistic Regression model\n",
    "+ How to interpret the coefficients of a Logistic Regression model "
   ]
  },
  {
   "cell_type": "markdown",
   "id": "2887bb87",
   "metadata": {},
   "source": [
    "## 1. Collect the Data"
   ]
  },
  {
   "cell_type": "markdown",
   "id": "7c96c17b",
   "metadata": {},
   "source": [
    "Before we import our data, we must first import the `pandas` package."
   ]
  },
  {
   "cell_type": "code",
   "execution_count": 12,
   "id": "de4b4a56",
   "metadata": {},
   "outputs": [],
   "source": [
    "import pandas as pd"
   ]
  },
  {
   "cell_type": "markdown",
   "id": "eff3ec92",
   "metadata": {},
   "source": [
    "Now, we can import our data into a dataframe called `loan`."
   ]
  },
  {
   "cell_type": "code",
   "execution_count": 13,
   "id": "b53e3b3f",
   "metadata": {},
   "outputs": [],
   "source": [
    "loan = pd.read_csv(\"loan.csv\")"
   ]
  },
  {
   "cell_type": "markdown",
   "id": "836693c2",
   "metadata": {},
   "source": [
    "To verify that the import worked as expected, let’s use the `head()` method of the pandas dataframe to preview the data."
   ]
  },
  {
   "cell_type": "code",
   "execution_count": 14,
   "id": "046f5901",
   "metadata": {},
   "outputs": [
    {
     "data": {
      "text/html": [
       "<div>\n",
       "<style scoped>\n",
       "    .dataframe tbody tr th:only-of-type {\n",
       "        vertical-align: middle;\n",
       "    }\n",
       "\n",
       "    .dataframe tbody tr th {\n",
       "        vertical-align: top;\n",
       "    }\n",
       "\n",
       "    .dataframe thead th {\n",
       "        text-align: right;\n",
       "    }\n",
       "</style>\n",
       "<table border=\"1\" class=\"dataframe\">\n",
       "  <thead>\n",
       "    <tr style=\"text-align: right;\">\n",
       "      <th></th>\n",
       "      <th>Income</th>\n",
       "      <th>Loan Amount</th>\n",
       "      <th>Default</th>\n",
       "    </tr>\n",
       "  </thead>\n",
       "  <tbody>\n",
       "    <tr>\n",
       "      <th>0</th>\n",
       "      <td>30</td>\n",
       "      <td>8</td>\n",
       "      <td>No</td>\n",
       "    </tr>\n",
       "    <tr>\n",
       "      <th>1</th>\n",
       "      <td>22</td>\n",
       "      <td>10</td>\n",
       "      <td>No</td>\n",
       "    </tr>\n",
       "    <tr>\n",
       "      <th>2</th>\n",
       "      <td>33</td>\n",
       "      <td>12</td>\n",
       "      <td>No</td>\n",
       "    </tr>\n",
       "    <tr>\n",
       "      <th>3</th>\n",
       "      <td>28</td>\n",
       "      <td>20</td>\n",
       "      <td>No</td>\n",
       "    </tr>\n",
       "    <tr>\n",
       "      <th>4</th>\n",
       "      <td>23</td>\n",
       "      <td>32</td>\n",
       "      <td>No</td>\n",
       "    </tr>\n",
       "  </tbody>\n",
       "</table>\n",
       "</div>"
      ],
      "text/plain": [
       "   Income  Loan Amount Default\n",
       "0      30            8      No\n",
       "1      22           10      No\n",
       "2      33           12      No\n",
       "3      28           20      No\n",
       "4      23           32      No"
      ]
     },
     "execution_count": 14,
     "metadata": {},
     "output_type": "execute_result"
    }
   ],
   "source": [
    "loan.head()"
   ]
  },
  {
   "cell_type": "markdown",
   "id": "758f2183",
   "metadata": {},
   "source": [
    "Our dataset has three columns. The first two - `Income` and `Loan Amount` - are the predictors (or independent variables), while the last one - `Default` - is the response (or dependent variable).\n",
    "\n",
    "In this exercise, we’ll use this `loan` data to train a logistic regression model to predict whether a borrower will default or not default on a new loan based on their income and the amount of money they intend to borrow. "
   ]
  },
  {
   "cell_type": "markdown",
   "id": "e6095cae",
   "metadata": {},
   "source": [
    "## 2. Explore the Data"
   ]
  },
  {
   "cell_type": "markdown",
   "id": "c1c66cc1",
   "metadata": {},
   "source": [
    "Now that we have our data, let's try to understand it.\n",
    "\n",
    "First, let's get a concise summary of the structure of the data by calling the `info()` method of the `loan` dataframe."
   ]
  },
  {
   "cell_type": "code",
   "execution_count": 15,
   "id": "67de73e2",
   "metadata": {},
   "outputs": [
    {
     "name": "stdout",
     "output_type": "stream",
     "text": [
      "<class 'pandas.core.frame.DataFrame'>\n",
      "RangeIndex: 30 entries, 0 to 29\n",
      "Data columns (total 3 columns):\n",
      " #   Column       Non-Null Count  Dtype \n",
      "---  ------       --------------  ----- \n",
      " 0   Income       30 non-null     int64 \n",
      " 1   Loan Amount  30 non-null     int64 \n",
      " 2   Default      30 non-null     object\n",
      "dtypes: int64(2), object(1)\n",
      "memory usage: 848.0+ bytes\n"
     ]
    }
   ],
   "source": [
    "loan.info()"
   ]
  },
  {
   "cell_type": "markdown",
   "id": "b7f146df",
   "metadata": {},
   "source": [
    "By looking at the `RangeIndex` value from the summary, we can tell that there are 30 instances (or rows) in the dataset. \n",
    "\n",
    "The `Data columns` value shows that the dataset consists of 3 features (or columns). Looking at the `Dtype` column within this section, we see that the `Income` and `Loan Amount` columns hold integer values, while the `Default` column holds text (aka object)."
   ]
  },
  {
   "cell_type": "markdown",
   "id": "c4602524",
   "metadata": {},
   "source": [
    "Next, let's get summary statistics for the numeric features in the data by calling the `describe()` method of the dataframe."
   ]
  },
  {
   "cell_type": "code",
   "execution_count": 16,
   "id": "acdf6ca5",
   "metadata": {},
   "outputs": [
    {
     "data": {
      "text/html": [
       "<div>\n",
       "<style scoped>\n",
       "    .dataframe tbody tr th:only-of-type {\n",
       "        vertical-align: middle;\n",
       "    }\n",
       "\n",
       "    .dataframe tbody tr th {\n",
       "        vertical-align: top;\n",
       "    }\n",
       "\n",
       "    .dataframe thead th {\n",
       "        text-align: right;\n",
       "    }\n",
       "</style>\n",
       "<table border=\"1\" class=\"dataframe\">\n",
       "  <thead>\n",
       "    <tr style=\"text-align: right;\">\n",
       "      <th></th>\n",
       "      <th>Income</th>\n",
       "      <th>Loan Amount</th>\n",
       "    </tr>\n",
       "  </thead>\n",
       "  <tbody>\n",
       "    <tr>\n",
       "      <th>count</th>\n",
       "      <td>30.000000</td>\n",
       "      <td>30.000000</td>\n",
       "    </tr>\n",
       "    <tr>\n",
       "      <th>mean</th>\n",
       "      <td>20.966667</td>\n",
       "      <td>54.233333</td>\n",
       "    </tr>\n",
       "    <tr>\n",
       "      <th>std</th>\n",
       "      <td>6.195011</td>\n",
       "      <td>28.231412</td>\n",
       "    </tr>\n",
       "    <tr>\n",
       "      <th>min</th>\n",
       "      <td>12.000000</td>\n",
       "      <td>8.000000</td>\n",
       "    </tr>\n",
       "    <tr>\n",
       "      <th>25%</th>\n",
       "      <td>16.250000</td>\n",
       "      <td>32.000000</td>\n",
       "    </tr>\n",
       "    <tr>\n",
       "      <th>50%</th>\n",
       "      <td>20.500000</td>\n",
       "      <td>54.500000</td>\n",
       "    </tr>\n",
       "    <tr>\n",
       "      <th>75%</th>\n",
       "      <td>24.750000</td>\n",
       "      <td>71.750000</td>\n",
       "    </tr>\n",
       "    <tr>\n",
       "      <th>max</th>\n",
       "      <td>34.000000</td>\n",
       "      <td>110.000000</td>\n",
       "    </tr>\n",
       "  </tbody>\n",
       "</table>\n",
       "</div>"
      ],
      "text/plain": [
       "          Income  Loan Amount\n",
       "count  30.000000    30.000000\n",
       "mean   20.966667    54.233333\n",
       "std     6.195011    28.231412\n",
       "min    12.000000     8.000000\n",
       "25%    16.250000    32.000000\n",
       "50%    20.500000    54.500000\n",
       "75%    24.750000    71.750000\n",
       "max    34.000000   110.000000"
      ]
     },
     "execution_count": 16,
     "metadata": {},
     "output_type": "execute_result"
    }
   ],
   "source": [
    "loan.describe()"
   ]
  },
  {
   "cell_type": "markdown",
   "id": "8889a842",
   "metadata": {},
   "source": [
    "From the statistics, we can see the average, standard deviation, minimum, and maximum values for both the `Income` and `Loan Amount` variables. We also get the 25th, 50th and 75th percentile values for both variables.\n",
    "\n",
    "Note that the values are in the thousands, so the minimum and maximum income values are \\\\$12,000 and \\\\$34,000, respectively. \n",
    "\n",
    "Now that we've described our data structurally and numerically, let’s describe it visually as well."
   ]
  },
  {
   "cell_type": "markdown",
   "id": "1ed89ece",
   "metadata": {},
   "source": [
    "### Boxplot\n",
    "Before we create the plots we need, we must first import a couple of packages. The first is the `matplotlib` package and the second is the `seaborn` package."
   ]
  },
  {
   "cell_type": "code",
   "execution_count": 17,
   "id": "7239372b",
   "metadata": {},
   "outputs": [],
   "source": [
    "from matplotlib import pyplot as plt\n",
    "import seaborn as sns"
   ]
  },
  {
   "cell_type": "markdown",
   "id": "5013146d",
   "metadata": {},
   "source": [
    "Let's start by creating a boxplot that highlights the difference in annual income between those that did not default on their loan (No) and those that did default (Yes). "
   ]
  },
  {
   "cell_type": "code",
   "execution_count": 18,
   "id": "9308d55a",
   "metadata": {},
   "outputs": [
    {
     "data": {
      "image/png": "[encoded data removed]",
      "text/plain": [
       "<Figure size 432x288 with 1 Axes>"
      ]
     },
     "metadata": {
      "needs_background": "light"
     },
     "output_type": "display_data"
    }
   ],
   "source": [
    "ax = sns.boxplot(data = loan, x = 'Default', y = 'Income')"
   ]
  },
  {
   "cell_type": "markdown",
   "id": "6da0bae9",
   "metadata": {},
   "source": [
    "The chart shows that those that did not default on their loans tend to have a higher annual income than those that did default on their loans. "
   ]
  },
  {
   "cell_type": "markdown",
   "id": "fd1574a4",
   "metadata": {},
   "source": [
    "Next, let's create another box plot to highlight the difference in amount borrowed between those that did not default on their loans and those that did."
   ]
  },
  {
   "cell_type": "code",
   "execution_count": 19,
   "id": "bcb7b490",
   "metadata": {},
   "outputs": [
    {
     "data": {
      "image/png": "[encoded data removed]",
      "text/plain": [
       "<Figure size 432x288 with 1 Axes>"
      ]
     },
     "metadata": {
      "needs_background": "light"
     },
     "output_type": "display_data"
    }
   ],
   "source": [
    "ax = sns.boxplot(data = loan, x = 'Default', y = 'Loan Amount')"
   ]
  },
  {
   "cell_type": "markdown",
   "id": "7158408e",
   "metadata": {},
   "source": [
    "This chart shows that those that defaulted on their loans tend to have borrowed more money than those that did not default."
   ]
  },
  {
   "cell_type": "markdown",
   "id": "9e51544a",
   "metadata": {},
   "source": [
    "### Scatterplot\n",
    "If we recode the `Default` feature values 'No' and 'Yes' to '0' and '1', we can also use a scatterplot to get a slightly different perspective of our data. "
   ]
  },
  {
   "cell_type": "markdown",
   "id": "bbdc98b1",
   "metadata": {},
   "source": [
    "However, before we do so, we must first import the `numpy` package."
   ]
  },
  {
   "cell_type": "code",
   "execution_count": 20,
   "id": "04b9e4bd",
   "metadata": {},
   "outputs": [],
   "source": [
    "import numpy as np"
   ]
  },
  {
   "cell_type": "markdown",
   "id": "88188d4c",
   "metadata": {},
   "source": [
    "Now, we can create a scatterplot that describes the relationship between the annual income of borrowers and loan outcomes. "
   ]
  },
  {
   "cell_type": "code",
   "execution_count": 21,
   "id": "f0e2438f",
   "metadata": {},
   "outputs": [
    {
     "data": {
      "image/png": "[encoded data removed]",
      "text/plain": [
       "<Figure size 432x288 with 1 Axes>"
      ]
     },
     "metadata": {
      "needs_background": "light"
     },
     "output_type": "display_data"
    }
   ],
   "source": [
    "ax = sns.scatterplot(x = loan['Income'], \n",
    "                     y = np.where(loan['Default'] == 'No', 0, 1), \n",
    "                     s = 150)"
   ]
  },
  {
   "cell_type": "markdown",
   "id": "dbcc993e",
   "metadata": {},
   "source": [
    "We can also describe the relationship between the amount borrowed and loan outcomes. "
   ]
  },
  {
   "cell_type": "code",
   "execution_count": 22,
   "id": "1387c926",
   "metadata": {
    "scrolled": true
   },
   "outputs": [
    {
     "data": {
      "image/png": "[encoded data removed]",
      "text/plain": [
       "<Figure size 432x288 with 1 Axes>"
      ]
     },
     "metadata": {
      "needs_background": "light"
     },
     "output_type": "display_data"
    }
   ],
   "source": [
    "ax = sns.scatterplot(x = loan['Loan Amount'], \n",
    "                     y = np.where(loan['Default'] == 'No', 0, 1), \n",
    "                     s = 150)"
   ]
  },
  {
   "cell_type": "markdown",
   "id": "5b063af6",
   "metadata": {},
   "source": [
    "Looking at these two charts, we can easily imagine a sigmoid curve that fits the data. This tells us that a logistic regression function would model the relationship between the predictors (`Income` and `Loan Amount`) and the response (`Default`) well."
   ]
  },
  {
   "cell_type": "markdown",
   "id": "d6d214f4",
   "metadata": {},
   "source": [
    "## 3. Prepare the Data"
   ]
  },
  {
   "cell_type": "markdown",
   "id": "1c7e68c4",
   "metadata": {},
   "source": [
    "Our primary objective in this step is to split our data into training and test sets. The training set will be used to train the model, while the test set will be used to evaluate the model.\n",
    "\n",
    "Before we split the data, we first need to separate the dependent variable from the independent variables."
   ]
  },
  {
   "cell_type": "markdown",
   "id": "9e239ee4",
   "metadata": {},
   "source": [
    "Let's start by creating a pandas Series called `y` for the dependent variable."
   ]
  },
  {
   "cell_type": "code",
   "execution_count": 23,
   "id": "a570e61b",
   "metadata": {
    "scrolled": false
   },
   "outputs": [],
   "source": [
    "y = loan['Default']"
   ]
  },
  {
   "cell_type": "markdown",
   "id": "408be828",
   "metadata": {},
   "source": [
    "Then we create a pandas DataFrame called `X` for the independent variables."
   ]
  },
  {
   "cell_type": "code",
   "execution_count": 24,
   "id": "1fda732e",
   "metadata": {
    "scrolled": false
   },
   "outputs": [],
   "source": [
    "X = loan[['Income', 'Loan Amount']]"
   ]
  },
  {
   "cell_type": "markdown",
   "id": "89042894",
   "metadata": {},
   "source": [
    "Next, we import the `train_test_split()` function from the `sklearn.model_selection` subpackage. "
   ]
  },
  {
   "cell_type": "code",
   "execution_count": 25,
   "id": "cd01aaca",
   "metadata": {},
   "outputs": [],
   "source": [
    "from sklearn.model_selection import train_test_split"
   ]
  },
  {
   "cell_type": "markdown",
   "id": "67a48b50",
   "metadata": {},
   "source": [
    "Using the `train_test_split()` function, we can split `X` and `y` into `X_train`, `X_test`, `y_train` and `y_test`.\n",
    "\n",
    "Note that within the `train_test_split()` function, we will set:\n",
    "\n",
    "* `train_size` to `0.7`. This means we want $70\\%$ of the original data to be assigned to the training data while $30\\%$ is assigned to the test data. \n",
    "\n",
    "* `stratify` as `y`, which means that we want the data split using a stratified random sampling approach based on the values of `y`. \n",
    "\n",
    "* `random_state` to `123`, so we get the same results every time we do this split. "
   ]
  },
  {
   "cell_type": "code",
   "execution_count": 26,
   "id": "346cdb9d",
   "metadata": {},
   "outputs": [],
   "source": [
    "X_train, X_test, y_train, y_test = train_test_split(X, y, train_size=0.7, stratify=y, random_state=123)"
   ]
  },
  {
   "cell_type": "markdown",
   "id": "394ac187",
   "metadata": {},
   "source": [
    "After the data is split, the newly created `X_train` and `X_test` data sets hold the independent variables for the training and test sets, respectively. While the `y_train` and `y_test` data sets hold the dependent variable for the training and test sets respectively.\n"
   ]
  },
  {
   "cell_type": "markdown",
   "id": "cbc90e5d",
   "metadata": {},
   "source": [
    "We can refer to the `shape` attribute of any of the newly created data sets to know how many instances or records are in each. Let's look at the training data."
   ]
  },
  {
   "cell_type": "code",
   "execution_count": 27,
   "id": "66162c9a",
   "metadata": {
    "scrolled": false
   },
   "outputs": [
    {
     "data": {
      "text/plain": [
       "(21, 2)"
      ]
     },
     "execution_count": 27,
     "metadata": {},
     "output_type": "execute_result"
    }
   ],
   "source": [
    "X_train.shape"
   ]
  },
  {
   "cell_type": "markdown",
   "id": "cf46e048",
   "metadata": {},
   "source": [
    "The result is a tuple that holds the number of rows and columns in the `X_train` dataframe. It tells us that $21$ out of the $30$ instances in the `loans` data were assigned to the training set.\n",
    "\n",
    "Let's look at the test set as well."
   ]
  },
  {
   "cell_type": "code",
   "execution_count": 28,
   "id": "20c26601",
   "metadata": {},
   "outputs": [
    {
     "data": {
      "text/plain": [
       "(9, 2)"
      ]
     },
     "execution_count": 28,
     "metadata": {},
     "output_type": "execute_result"
    }
   ],
   "source": [
    "X_test.shape"
   ]
  },
  {
   "cell_type": "markdown",
   "id": "8dfa25f9",
   "metadata": {},
   "source": [
    "The result tells us that $9$ out of the $30$ instances in the `loans` data were assigned to the test set."
   ]
  }
 ],
 "metadata": {
  "kernelspec": {
   "display_name": "Python 3 (ipykernel)",
   "language": "python",
   "name": "python3"
  },
  "language_info": {
   "codemirror_mode": {
    "name": "ipython",
    "version": 3
   },
   "file_extension": ".py",
   "mimetype": "text/x-python",
   "name": "python",
   "nbconvert_exporter": "python",
   "pygments_lexer": "ipython3",
   "version": "3.9.7"
  }
 },
 "nbformat": 4,
 "nbformat_minor": 5
}
